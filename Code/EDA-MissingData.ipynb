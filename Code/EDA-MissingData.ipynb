{
 "cells": [
  {
   "cell_type": "code",
   "execution_count": 1,
   "id": "b27946de",
   "metadata": {},
   "outputs": [],
   "source": [
    "import warnings\n",
    "# Ignore all warnings (not recommended in general)\n",
    "warnings.filterwarnings('ignore')"
   ]
  },
  {
   "cell_type": "markdown",
   "id": "62557eea",
   "metadata": {},
   "source": [
    "# EDA"
   ]
  },
  {
   "cell_type": "code",
   "execution_count": 2,
   "id": "c14047d4",
   "metadata": {},
   "outputs": [
    {
     "name": "stdout",
     "output_type": "stream",
     "text": [
      "<class 'pandas.core.frame.DataFrame'>\n",
      "RangeIndex: 218 entries, 0 to 217\n",
      "Data columns (total 23 columns):\n",
      " #   Column          Non-Null Count  Dtype  \n",
      "---  ------          --------------  -----  \n",
      " 0   company         218 non-null    object \n",
      " 1   price           190 non-null    float64\n",
      " 2   weight          218 non-null    float64\n",
      " 3   star_rating     183 non-null    float64\n",
      " 4   total_comments  183 non-null    float64\n",
      " 5   adult           218 non-null    float64\n",
      " 6   chicken         218 non-null    int64  \n",
      " 7   wet             218 non-null    float64\n",
      " 8   from_ocean      218 non-null    int64  \n",
      " 9   fish            218 non-null    int64  \n",
      " 10  tuna            218 non-null    int64  \n",
      " 11  salmon          218 non-null    int64  \n",
      " 12  mackerel        218 non-null    int64  \n",
      " 13  shrimps         218 non-null    int64  \n",
      " 14  milk            218 non-null    int64  \n",
      " 15  can             218 non-null    int64  \n",
      " 16  gravy           218 non-null    int64  \n",
      " 17  pouch           218 non-null    int64  \n",
      " 18  liver           218 non-null    int64  \n",
      " 19  grilled         218 non-null    int64  \n",
      " 20  turkey          218 non-null    int64  \n",
      " 21  ham             218 non-null    int64  \n",
      " 22  vegan           218 non-null    int64  \n",
      "dtypes: float64(6), int64(16), object(1)\n",
      "memory usage: 39.3+ KB\n",
      "None\n"
     ]
    }
   ],
   "source": [
    "import pandas as pd\n",
    "\n",
    "# Load the CSV file\n",
    "data = pd.read_csv('catfood_no_duplicates.csv')\n",
    "\n",
    "# Show general information about the dataset\n",
    "print(data.info())"
   ]
  },
  {
   "cell_type": "markdown",
   "id": "d00add44",
   "metadata": {},
   "source": [
    "## Missing data"
   ]
  },
  {
   "cell_type": "code",
   "execution_count": 3,
   "id": "f2a2da43",
   "metadata": {},
   "outputs": [
    {
     "name": "stdout",
     "output_type": "stream",
     "text": [
      "company            0\n",
      "price             28\n",
      "weight             0\n",
      "star_rating       35\n",
      "total_comments    35\n",
      "adult              0\n",
      "chicken            0\n",
      "wet                0\n",
      "from_ocean         0\n",
      "fish               0\n",
      "tuna               0\n",
      "salmon             0\n",
      "mackerel           0\n",
      "shrimps            0\n",
      "milk               0\n",
      "can                0\n",
      "gravy              0\n",
      "pouch              0\n",
      "liver              0\n",
      "grilled            0\n",
      "turkey             0\n",
      "ham                0\n",
      "vegan              0\n",
      "dtype: int64\n",
      "54\n"
     ]
    }
   ],
   "source": [
    "# Check how many missing values per column\n",
    "print(data.isnull().sum())\n",
    "\n",
    "# Check how many rows contain at least one missing value\n",
    "print(data.isnull().any(axis=1).sum())\n"
   ]
  },
  {
   "cell_type": "code",
   "execution_count": 4,
   "id": "fdcef5c2",
   "metadata": {},
   "outputs": [
    {
     "data": {
      "text/plain": [
       "164"
      ]
     },
     "execution_count": 4,
     "metadata": {},
     "output_type": "execute_result"
    }
   ],
   "source": [
    "# Drop rows with any missing values\n",
    "data = data.dropna()\n",
    "len(data)\n"
   ]
  },
  {
   "cell_type": "code",
   "execution_count": 5,
   "id": "917002de",
   "metadata": {},
   "outputs": [],
   "source": [
    "data.to_csv('catfood_no_missing.csv', index=False)"
   ]
  }
 ],
 "metadata": {
  "kernelspec": {
   "display_name": "Python 3 (ipykernel)",
   "language": "python",
   "name": "python3"
  },
  "language_info": {
   "codemirror_mode": {
    "name": "ipython",
    "version": 3
   },
   "file_extension": ".py",
   "mimetype": "text/x-python",
   "name": "python",
   "nbconvert_exporter": "python",
   "pygments_lexer": "ipython3",
   "version": "3.9.16"
  }
 },
 "nbformat": 4,
 "nbformat_minor": 5
}
